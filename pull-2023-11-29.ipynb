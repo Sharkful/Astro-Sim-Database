{
 "cells": [
  {
   "cell_type": "markdown",
   "id": "674d3e73-43f8-40d5-a66e-4b60c38ec7b5",
   "metadata": {},
   "source": [
    "## Imports"
   ]
  },
  {
   "cell_type": "code",
   "execution_count": 1,
   "id": "ffaf7935-2431-4286-ba29-0ddb848dfedd",
   "metadata": {
    "tags": []
   },
   "outputs": [
    {
     "name": "stdout",
     "output_type": "stream",
     "text": [
      "Imports Done\n"
     ]
    }
   ],
   "source": [
    "import os, argparse, numpy as np\n",
    "import matplotlib.pyplot as plt \n",
    "import illustris_python as il\n",
    "print(\"Imports Done\")\n",
    "\n",
    "# A useful print fucntion I often use for printing\n",
    "def tabprint( printme, start = '\\t - ', end = '\\n' ):\n",
    "    print( start + printme, end = end )"
   ]
  },
  {
   "cell_type": "markdown",
   "id": "462cc9a5-46ed-44a4-9f2a-f818722fd23d",
   "metadata": {},
   "source": [
    "---\n",
    "## Command Line Arguments\n",
    "\n",
    "This is written in JupyterLab, but will eventually be compiled and ran in python for faster results.  This will define the possible input command line arguements"
   ]
  },
  {
   "cell_type": "code",
   "execution_count": 2,
   "id": "80aad8ad-d829-43e3-81cb-950629bab0f4",
   "metadata": {},
   "outputs": [
    {
     "name": "stdout",
     "output_type": "stream",
     "text": [
      "Args: Defined\n"
     ]
    }
   ],
   "source": [
    "# This argument decides if code is in python or jupyter.\n",
    "buildEnv = False\n",
    "\n",
    "# Define argument parser function \n",
    "def initParser():\n",
    "    \n",
    "    parser = argparse.ArgumentParser()\n",
    "    \n",
    "    parser.add_argument( '-s', '--simDir', default = '../sims.TNG/TNG100-1/output/',  type=str, \\\n",
    "                        help=\"Base directory for a single simulation on the IllustrisTNG servers.\")   \n",
    "    \n",
    "    parser.add_argument( '-n', '--simName', default = 'TNG100-1',  type=str, \\\n",
    "                        help=\"Name for the simulation being worked on.\")\n",
    "    \n",
    "    parser.add_argument( '-o', '--overwrite', default = False,  type=bool, \\\n",
    "                        help=\"Overwrite output files?  If false, will check if output file exists before beginning time-consuming tasks.\")\n",
    "    \n",
    "    parser.add_argument( '-t', '--trim', default = -1,  type=int, \\\n",
    "                        help=\"Default number of subhalos to consider, sorted by highest mass first.\")\n",
    "    \n",
    "    parser.add_argument( '-f', '--function', default = 'None', type=str, \\\n",
    "                        help=\"Default function program will be executing.\")\n",
    "\n",
    "    return parser\n",
    "\n",
    "parser = initParser()\n",
    "print(\"Args: Defined\")"
   ]
  },
  {
   "cell_type": "markdown",
   "id": "6f28ddf0-65da-4a9f-950a-20619ed0afe7",
   "metadata": {},
   "source": [
    "## To Python? Or to JupyterLab? \n",
    "This will establish if this is being run in a JupyterLab environment or from Command Line in Python. \n",
    "\n",
    "NOTE:  If you're running this in Jupyter, modify the `cmdStr` below to whatever variable you need."
   ]
  },
  {
   "cell_type": "code",
   "execution_count": 3,
   "id": "cc3bad9c-5048-4aaa-b254-fdb542bc0b10",
   "metadata": {
    "tags": []
   },
   "outputs": [
    {
     "name": "stdout",
     "output_type": "stream",
     "text": [
      "In Building Environment\n",
      "CMD Line: \n",
      "\t$: python3 basic-working.py --simDir ../sims.TNG/TNG100-1/output/ --simName TNG100-1\n",
      "Args: Read\n",
      "Namespace(simDir='../sims.TNG/TNG100-1/output/', simName='TNG100-1', overwrite=False, trim=-1, function='None')\n"
     ]
    }
   ],
   "source": [
    "# Am I in a jupyter notebook?\n",
    "try:\n",
    "    \n",
    "    # This command is NOT available in a python script\n",
    "    get_ipython().__class__.__name__\n",
    "    buildEnv = True\n",
    "    print (\"In Building Environment\")\n",
    "    \n",
    "    # Command Line Arguments\n",
    "    cmdStr  = 'python3 basic-working.py'\n",
    "    cmdStr += ' --simDir ../sims.TNG/TNG100-1/output/'\n",
    "    cmdStr += ' --simName TNG100-1'\n",
    "    \n",
    "    # Read string as if command line\n",
    "    print( \"CMD Line: \\n\\t$:\", cmdStr)\n",
    "    \n",
    "    # This function doesn't like the 'python3 file.py' part.\n",
    "    args = parser.parse_args(cmdStr.split()[2:])\n",
    "\n",
    "# Or am I in a python script?\n",
    "except:\n",
    "    \n",
    "    # Read CMD arguments\n",
    "    args = parser.parse_args()\n",
    "    \n",
    "\n",
    "print( \"Args: Read\")\n",
    "print( args )"
   ]
  },
  {
   "cell_type": "code",
   "execution_count": 4,
   "id": "cd168c99-22b6-427d-9600-7c6ea4fb4bff",
   "metadata": {
    "tags": []
   },
   "outputs": [
    {
     "name": "stdout",
     "output_type": "stream",
     "text": [
      "Is this locational valid?\n",
      "Simulation data: True - ../sims.TNG/TNG100-1/output/\n"
     ]
    }
   ],
   "source": [
    "if buildEnv: \n",
    "    # Location of one simulation\n",
    "    print(\"Is this locational valid?\")\n",
    "    print( f\"Simulation data: {os.path.exists( args.simDir )} - {args.simDir}\" )"
   ]
  },
  {
   "cell_type": "markdown",
   "id": "28feb0bf-fed5-43f1-999a-854079cc1c20",
   "metadata": {},
   "source": [
    "---\n",
    "# Halos and SubHalos\n",
    "Within the simulation, Halos are the largest set of objects that are gravitationally bound to each other, I like to think of them as galaxy clusters.  Subhalos are also gravitationally bound objects but more dense.  I like to think of them as galaxies, globular clusters, etc."
   ]
  },
  {
   "cell_type": "markdown",
   "id": "2d2440ad-2baf-4826-a977-b11e1d885c83",
   "metadata": {},
   "source": [
    "___\n",
    "# Centrals and Satellites\n",
    "Halo's often have a singular central galaxy that's the largest, with smaller subhalos orbiting it called satellites.  For our purposes, we will be focusing on the central galaxies because they are the largest and have most likley undergone the most mergers. Let's get a list of subhalo IDs for the central galaxies.\n",
    "\n",
    "Note 1: The ID is an index for another list.\n",
    "\n",
    "Note 2: The Halos are ordered by largest mass first.\n",
    "\n",
    "Note 3: The jump between subhalo id's between halos tells us how many subhalos the halo has. "
   ]
  },
  {
   "cell_type": "code",
   "execution_count": 5,
   "id": "c21c19cf-a71c-494b-8b1b-31b53879a83d",
   "metadata": {
    "tags": []
   },
   "outputs": [
    {
     "name": "stdout",
     "output_type": "stream",
     "text": [
      "Reading Central Galaxy ID file: TNG100-1-central-galaxies.txt\n",
      "Galactic Cluster Count: (3430706,)\n",
      "Top 10 IDs: [    0 17185 31342 41582 52618 60731 69507 76086 83280 88663]\n"
     ]
    }
   ],
   "source": [
    "def getCentralIds( args, snapshot = 99, trim=-1 ):\n",
    "    \n",
    "    cLoc = f'{args.simName}-central-galaxies.txt'\n",
    "\n",
    "    # If already obtained, read from file\n",
    "    if os.path.exists( cLoc ) and not args.overwrite:\n",
    "        print(f\"Reading Central Galaxy ID file: {cLoc}\")\n",
    "        central_ids = np.loadtxt( cLoc, skiprows=1, dtype=int )\n",
    "\n",
    "    # Else, use IllustricTNG to get central IDs\n",
    "    else:\n",
    "        print(f\"Getting Central SubHalo IDs for sim: {args.simName}\")\n",
    "        \n",
    "        # The GroupFirstSub is the subhalo id for the largest subhalo in a halo.  \n",
    "        GroupFirstSub = il.groupcat.loadHalos( args.simDir, snapshot, fields=['GroupFirstSub'])\n",
    "        \n",
    "        # Filter out groups that contain no subhalos.\n",
    "        w = np.where(GroupFirstSub >= 0) # value of -1 indicates no subhalo in this group\n",
    "        central_ids = GroupFirstSub[w]\n",
    "        \n",
    "        print( f\"Writing Central IDs to file: {cLoc}\" )\n",
    "\n",
    "        cFile = open( cLoc, 'w' )\n",
    "        cFile.write(\"SubHaloID \\n\")\n",
    "        for c in central_ids:\n",
    "            cFile.write(f\"{c} \\n\")\n",
    "        cFile.close()\n",
    "\n",
    "        tabprint(\"Writing Complete\")\n",
    "    \n",
    "    # Trim some from the bottom, after saving all the \n",
    "    if trim != -1 and central_ids.shape[0] > trim:\n",
    "        central_ids = central_ids[0:trim]\n",
    "        \n",
    "    return central_ids\n",
    "\n",
    "\n",
    "if buildEnv and True: \n",
    "\n",
    "    central_ids = getCentralIds( args, trim=args.trim )\n",
    "\n",
    "    print( f'Galactic Cluster Count: {central_ids.shape}' )\n",
    "    print( f'Top 10 IDs: {central_ids[0:10]}' )\n",
    "    \n",
    "elif args.function == 'central-ids':\n",
    "        central_ids = getCentralIds( args, trim=args.trim )"
   ]
  },
  {
   "cell_type": "markdown",
   "id": "bb9a45fc-a549-4ad0-82b0-679a88a6fc5f",
   "metadata": {},
   "source": [
    "# Counting Significant Merger events\n",
    "We are specifically looking for major and minor mergers, where the secondary galaxy has a significant fraction of mass compared to the primary galaxy.  Let's define a ratio and look for mergers where the secondary galaxy needs at least that much mass in comparison to the primary galaxy.  \n",
    "\n",
    "Note: The following built in function tells us *how many* they've undergone, but not *when* they've undergone merger events.  But this could still be useful. Since we have 3 Million central galaxies to choose from, it might be useful to find galaxies that have undergone several mergers.  "
   ]
  },
  {
   "cell_type": "code",
   "execution_count": 9,
   "id": "4b729b8d-bb1b-4252-9827-aad95dbcbdf7",
   "metadata": {
    "tags": []
   },
   "outputs": [
    {
     "name": "stdout",
     "output_type": "stream",
     "text": [
      "Reading Central Galaxy ID file: TNG100-1-central-galaxies.txt\n",
      "\n",
      " - 0 - 0 - 10\n",
      " - 1 - 17185 - 7\n",
      " - 2 - 31342 - 12\n",
      " - 3 - 41582 - 11\n",
      " - 4 - 52618 - 5\n",
      " - 5 - 60731 - 4\n",
      " - 6 - 69507 - 11\n",
      " - 7 - 76086 - 8\n",
      " - 8 - 83280 - 11\n",
      " - 9 - 88663 - 8\n",
      "Writing Merger Count to file: TNG100-1-merger-count-10.txt\n",
      "\t - Writing Complete\n"
     ]
    }
   ],
   "source": [
    "def getMergerCount( central_ids, args, ratio=1/10 ):\n",
    "    \n",
    "    # Check if file exists\n",
    "    if args.trim == -1:\n",
    "        fLoc = f'{args.simName}-merger-count.txt'\n",
    "    else:\n",
    "        fLoc = f'{args.simName}-merger-count-{args.trim}.txt'\n",
    "\n",
    "    # If already obtained, read from file\n",
    "    if os.path.exists( fLoc ) and not args.overwrite:\n",
    "        print(f\"Reading Merger Count file: {fLoc}\")\n",
    "        merger_count_merged = np.loadtxt( fLoc, skiprows=1, dtype=int )\n",
    "\n",
    "    # Else, use IllustricTNG to get Merger Count\n",
    "    else:    \n",
    "    \n",
    "        # the following fields are required for the walk and the mass ratio analysis\n",
    "        fields = ['SubhaloID','NextProgenitorID','MainLeafProgenitorID','FirstProgenitorID','SubhaloMassType']\n",
    "        \n",
    "        n = central_ids.shape[0]\n",
    "        merger_count = np.zeros( n, dtype=int )\n",
    "\n",
    "        for i, id in enumerate( central_ids ):\n",
    "\n",
    "            # Get merger tree\n",
    "            tree = il.sublink.loadTree( args.simDir, 99, id, fields=fields )\n",
    "\n",
    "            # Pass merger tree into function to count mergers above ratio threshold\n",
    "            merger_count[i] = il.sublink.numMergers( tree, minMassRatio=ratio )\n",
    "\n",
    "            print( f\"\\n - {i} - {id} - {merger_count[i]}\", end='\\r' )\n",
    "        \n",
    "        print( f\"\\nWriting Merger Count to file: {fLoc}\" )\n",
    "\n",
    "        oFile = open( fLoc, 'w' )\n",
    "        oFile.write(f\"SubHaloID Merger-Count-{ratio}\\n\")\n",
    "        for i in range( n ):\n",
    "            oFile.write(f\"{central_ids[i]} {merger_count[i]}\\n\")\n",
    "        oFile.close()\n",
    "\n",
    "        tabprint(\"Writing Complete\")\n",
    "    \n",
    "    \n",
    "    \n",
    "\n",
    "if buildEnv and True:\n",
    "    args.trim = 10\n",
    "    central_ids = getCentralIds( args, trim=args.trim )    \n",
    "    getMergerCount( central_ids, args )\n",
    "\n",
    "# In python script\n",
    "elif args.function == 'merger-count':    \n",
    "    central_ids = getCentralIds( args, trim=args.trim )\n",
    "    getMergerCount( central_ids, args )"
   ]
  },
  {
   "cell_type": "markdown",
   "id": "42f82486-9642-4439-9dfc-0ff6eda638f3",
   "metadata": {},
   "source": [
    "## Understanding Trees as lists\n",
    "\n",
    "So I had a crash course in how trees can be represented as lists. Here are some of my key findings while trying to udnerstand the Tree. \n",
    "\n",
    "- This is a Tree, flattened into a list. \n",
    "- Index 0 is the root of the tree.  The original SubHaloID I fed into the loadTree function. \n",
    "- A single galaxy will have multiple SubHaloIDs, a seperate ID for each snapshot.\n",
    "- FirstProgenitorID: ID for this galaxy during the previous snapshot.  -1 if child node.\n",
    "- NextProgenitorID: ID of a secondary galaxy/subhalo if merging occured.  -1 if no secondary galaxy.\n",
    "    - NOTE: If NextProgenitorID has a NextProgenitorID, then 3 or more subhalos were involved.  \n",
    "- SubhaloMassType, SubhaloMass:  These are NOT sublink.Tree fields.  This implies the tree used the SubhaloID and queried the Group Catalog for additional subhalo info.  Helpful.\n",
    "- SubhaloIDRaw = SnapNum*10^12 + SubfindID"
   ]
  },
  {
   "cell_type": "markdown",
   "id": "6746d6b2-8199-4f68-bcf9-cd45592beea7",
   "metadata": {},
   "source": [
    "# Central Masses over time\n",
    "It is theorized that galaxies typically gain most of their mass through collisions with other galaxies.  Let's plot the mass growing over the simulation snapshots.  Notice the mass growth is on a log scale. Also notice sharp dips in some galaxies.  These dips are likley galaxies currently undergoing merger events, where the missing mass was labeled as belonging to the other galaxy before final collision.  "
   ]
  },
  {
   "cell_type": "code",
   "execution_count": 13,
   "id": "c3ad9385-b2ae-4458-9de7-b2873b9853e4",
   "metadata": {
    "tags": []
   },
   "outputs": [
    {
     "name": "stdout",
     "output_type": "stream",
     "text": [
      "Reading Central Galaxy ID file: TNG100-1-central-galaxies.txt\n",
      "Step: 0\n",
      "\t - SubhaloID: 50000002800000000\n",
      "\t - FirstProgenitorID: 50000002800000001\n",
      "\t - NextProgenitorID: -1\n",
      "Step: 1\n",
      "\t - SubhaloID: 50000002800000001\n",
      "\t - FirstProgenitorID: 50000002800000002\n",
      "\t - NextProgenitorID: 50000002800035014\n",
      "MERGER!!!!\n",
      "\t - 0.0002408809377811849 - 1001.5435180664062 - 0.24131087958812714\n",
      "Step: 2\n",
      "\t - SubhaloID: 50000002800000002\n",
      "\t - FirstProgenitorID: 50000002800000003\n",
      "\t - NextProgenitorID: 50000002800034424\n",
      "MERGER!!!!\n",
      "\t - 1.0867302080441732e-05 - 976.9623413085938 - 0.010617060586810112\n",
      "Step: 3\n",
      "\t - SubhaloID: 50000002800000003\n",
      "\t - FirstProgenitorID: 50000002800000004\n",
      "\t - NextProgenitorID: 50000002800026069\n",
      "MERGER!!!!\n",
      "\t - 0.49958372116088867 - 985.0790405273438 - 983.4401245117188\n",
      "Step: 4\n",
      "\t - SubhaloID: 50000002800000004\n",
      "\t - FirstProgenitorID: 50000002800000005\n",
      "\t - NextProgenitorID: 50000002800024516\n",
      "MERGER!!!!\n",
      "\t - 0.003453451907262206 - 3.3554980754852295 - 0.011628208681941032\n",
      "Step: 5\n",
      "\t - SubhaloID: 50000002800000005\n",
      "\t - FirstProgenitorID: 50000002800000006\n",
      "\t - NextProgenitorID: -1\n",
      "Step: 6\n",
      "\t - SubhaloID: 50000002800000006\n",
      "\t - FirstProgenitorID: 50000002800000007\n",
      "\t - NextProgenitorID: 50000002800024421\n",
      "MERGER!!!!\n",
      "\t - 3.3633779821684584e-05 - 931.9366455078125 - 0.03134560585021973\n",
      "Step: 7\n",
      "\t - SubhaloID: 50000002800000007\n",
      "\t - FirstProgenitorID: 50000002800000008\n",
      "\t - NextProgenitorID: 50000002800023858\n",
      "MERGER!!!!\n",
      "\t - 1.5311505194404162e-05 - 891.505859375 - 0.013650505803525448\n",
      "Step: 8\n",
      "\t - SubhaloID: 50000002800000008\n",
      "\t - FirstProgenitorID: 50000002800000009\n",
      "\t - NextProgenitorID: 50000002800023240\n",
      "MERGER!!!!\n",
      "\t - 1.4315693078970071e-05 - 847.573974609375 - 0.012133782729506493\n",
      "Step: 9\n",
      "\t - SubhaloID: 50000002800000009\n",
      "\t - FirstProgenitorID: 50000002800000010\n",
      "\t - NextProgenitorID: 50000002800022575\n",
      "MERGER!!!!\n",
      "\t - 6.146737723611295e-05 - 806.0086059570312 - 0.04954628273844719\n"
     ]
    }
   ],
   "source": [
    "if buildEnv and True:\n",
    "    \n",
    "    args.trim = -1\n",
    "    central_ids = getCentralIds( args )\n",
    "    \n",
    "    # Variables\n",
    "    final_snapshot = 99\n",
    "    seed_subhalo_id = central_ids[100]\n",
    "    fields = ['SubhaloID','NextProgenitorID','MainLeafProgenitorID','FirstProgenitorID',\\\n",
    "              'SubhaloMassType','SubhaloIDRaw','SubhaloMass']\n",
    "\n",
    "    # Query for the tree of the subhalo\n",
    "    tree = il.sublink.loadTree( args.simDir, final_snapshot, seed_subhalo_id, fields=fields) \n",
    "\n",
    "    # Create a dictionary to map Subhalo IDs to their index in the list\n",
    "    subhalo_index = {subhalo_id: index for index, subhalo_id in enumerate(tree['SubhaloID'])} \n",
    "\n",
    "    # Loop through tree. identify mergers is mass fractions greater than ratio.  \n",
    "\n",
    "    d = 0 # Prespecified depth\n",
    "    stop = 10\n",
    "    pi = 0  # Primary subhalo index\n",
    "    si = -1 # Secondary subhalo index\n",
    "    while d < stop:\n",
    "        print( 'Step:', d )\n",
    "        tabprint( f\"SubhaloID: {tree['SubhaloID'][pi]}\" )\n",
    "        tabprint( f\"FirstProgenitorID: {tree['FirstProgenitorID'][pi]}\" )\n",
    "        tabprint( f\"NextProgenitorID: {tree['NextProgenitorID'][pi]}\" )\n",
    "\n",
    "        # if present, potential merger\n",
    "        si = subhalo_index.get( tree['NextProgenitorID'][pi], -1 )\n",
    "\n",
    "        if si != -1:\n",
    "            print(\"MERGER!!!!\")\n",
    "            pm = tree['SubhaloMass'][pi]\n",
    "            sm = tree['SubhaloMass'][si]\n",
    "            tabprint( f\"{sm/(pm+sm)} - {pm} - {sm}\")\n",
    "\n",
    "        pi = subhalo_index[tree['FirstProgenitorID'][pi]]\n",
    "        d += 1\n"
   ]
  },
  {
   "cell_type": "code",
   "execution_count": 68,
   "id": "abbe282c-d688-4a4c-b8b5-2cc5da5c1bae",
   "metadata": {
    "tags": []
   },
   "outputs": [],
   "source": [
    "if buildEnv and False:\n",
    "    import matplotlib.pyplot as plt \n",
    "    fig = plt.figure(figsize=(10,8))\n",
    "    ax = fig.add_subplot(111)\n",
    "\n",
    "    fields = ['SubhaloMass','SubfindID','SnapNum']\n",
    "    start = 99\n",
    "    for i in range(start, start+5):\n",
    "        tree = il.sublink.loadTree( args.simDir, 99, central_ids[i], fields=fields, onlyMPB=True)\n",
    "        mass_msun = tree['SubhaloMass'] * 1e10 / 0.6774\n",
    "        ax.plot(tree['SnapNum'], mass_msun, '-', label='sub %d' % central_ids[i])\n",
    "\n",
    "    ax.set_yscale('log')\n",
    "    ax.set_xlabel('Snapshot Number')\n",
    "    ax.set_ylabel('Total Subhalo Mass [M$_\\odot$]')\n",
    "    ax.legend();"
   ]
  },
  {
   "cell_type": "code",
   "execution_count": 69,
   "id": "620e28ef-0af8-4f93-9b6f-ee0f5ff6300a",
   "metadata": {
    "tags": []
   },
   "outputs": [],
   "source": [
    "if buildEnv and True:\n",
    "    # Let's experiment\n",
    "\n",
    "    # Load a tree for a subhalo and see what info we get\n",
    "    fields = ['SubhaloID','NextProgenitorID','MainLeafProgenitorID','FirstProgenitorID',\\\n",
    "              'SubhaloMassType','SubhaloIDRaw','SubhaloMass',]\n",
    "    tree = il.sublink.loadTree( args.simDir, 99, central_ids[100], fields=fields) \n",
    "\n",
    "    print( \"Let's print what type of into the tree contains\")\n",
    "    print( \"Seed SubHaloID:\", central_ids[100] )\n",
    "    print( 'Type:', type(tree))\n",
    "    print( 'Keys:', tree.keys() )\n",
    "    print( 'Count:', tree['count'] )  # What is the 'count' counting? \n",
    "\n",
    "    for k in tree.keys():\n",
    "        try:\n",
    "            tabprint( f\"{k} - {type(tree[k])} - {tree[k].shape} \" )\n",
    "            tabprint( f\"{tree[k][:4]}\" )\n",
    "        except:\n",
    "            tabprint( f\"{k}: {type(tree[k])}\" )\n",
    "\n",
    "\n",
    "    for i in range( 2 ):    \n",
    "        print( i )\n",
    "        for k in tree.keys():\n",
    "            try:\n",
    "                tabprint( f\"{k} - {tree[k][i]}\" )\n",
    "            except:\n",
    "                pass\n"
   ]
  },
  {
   "cell_type": "code",
   "execution_count": 65,
   "id": "37ec7afc-0710-47a2-93e1-11487f9a3e7c",
   "metadata": {},
   "outputs": [],
   "source": [
    "if buildEnv and False:\n",
    "    import illustris_python as il\n",
    "\n",
    "    def find_major_mergers(subhalo_id, cutoff_ratio=0.1, sim_dir= '../sims.TNG/TNG100-1/output/', final_snapshot=99):\n",
    "        \"\"\"\n",
    "        Find major mergers for a given subhalo ID based on a specified mass ratio.\n",
    "\n",
    "        Parameters:\n",
    "        sim_dir (str): Directory of the simulation data.\n",
    "        final_snapshot (int): The final snapshot number to consider.\n",
    "        subhalo_id (int): The ID of the subhalo to analyze.\n",
    "        ratio (float): The mass ratio threshold to define a major merger.\n",
    "\n",
    "        Returns:\n",
    "        list of tuples: Each tuple contains (subhalo_id, merger_ratio).\n",
    "        \"\"\"\n",
    "        # Fields to load from the merger tree\n",
    "        fields = ['SubhaloID', 'NextProgenitorID', 'FirstProgenitorID', 'SubhaloMass']\n",
    "        fields = ['SubhaloID','NextProgenitorID','MainLeafProgenitorID','FirstProgenitorID',\\\n",
    "              'SubhaloMassType','SubhaloIDRaw','SubhaloMass']\n",
    "\n",
    "        # Load the merger tree\n",
    "        tree = il.sublink.loadTree(sim_dir, final_snapshot, subhalo_id, fields=fields)\n",
    "\n",
    "        # Create a dictionary to map Subhalo IDs to their index in the list\n",
    "        subhalo_index = {id: index for index, id in enumerate(tree['SubhaloID'])}\n",
    "\n",
    "        # List to store major mergers\n",
    "        major_mergers = []\n",
    "\n",
    "        # Start with the seed subhalo\n",
    "        current_index = 0\n",
    "\n",
    "        # Traverse the tree\n",
    "        while current_index != -1:\n",
    "            current_subhalo_id = tree['SubhaloID'][current_index]\n",
    "            next_progenitor_id = tree['NextProgenitorID'][current_index]\n",
    "\n",
    "            # Check for a potential merger\n",
    "            next_progenitor_index = subhalo_index.get(next_progenitor_id, -1)\n",
    "            if next_progenitor_index != -1:\n",
    "                primary_mass = tree['SubhaloMass'][current_index]\n",
    "                secondary_mass = tree['SubhaloMass'][next_progenitor_index]\n",
    "                merger_ratio = secondary_mass / (primary_mass + secondary_mass)\n",
    "\n",
    "                if merger_ratio >= ratio:\n",
    "                    major_mergers.append((current_subhalo_id, merger_ratio))\n",
    "\n",
    "            # Move to the first progenitor\n",
    "            current_index = subhalo_index.get(tree['FirstProgenitorID'][current_index], -1)\n",
    "\n",
    "        return major_mergers\n",
    "\n",
    "    # Example usage\n",
    "    sim_dir = '../sims.TNG/TNG100-1/output/'\n",
    "    final_snapshot = 99\n",
    "    subhalo_id = 101  # Replace with actual subhalo ID\n",
    "    ratio = 0.1  # Replace with desired ratio\n",
    "\n",
    "    major_mergers = find_major_mergers(sim_dir, final_snapshot, subhalo_id, ratio)\n",
    "    print(major_mergers)"
   ]
  },
  {
   "cell_type": "code",
   "execution_count": null,
   "id": "f1dd5d61-5860-4b68-b3bf-6b2b7baa10d6",
   "metadata": {},
   "outputs": [],
   "source": []
  }
 ],
 "metadata": {
  "kernelspec": {
   "display_name": "Python 3 (ipykernel)",
   "language": "python",
   "name": "python3"
  },
  "language_info": {
   "codemirror_mode": {
    "name": "ipython",
    "version": 3
   },
   "file_extension": ".py",
   "mimetype": "text/x-python",
   "name": "python",
   "nbconvert_exporter": "python",
   "pygments_lexer": "ipython3",
   "version": "3.11.4"
  }
 },
 "nbformat": 4,
 "nbformat_minor": 5
}
