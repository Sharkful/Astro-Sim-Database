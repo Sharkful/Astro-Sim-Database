{
 "cells": [
  {
   "cell_type": "markdown",
   "id": "674d3e73-43f8-40d5-a66e-4b60c38ec7b5",
   "metadata": {},
   "source": [
    "## Imports"
   ]
  },
  {
   "cell_type": "code",
   "execution_count": 1,
   "id": "ffaf7935-2431-4286-ba29-0ddb848dfedd",
   "metadata": {
    "tags": []
   },
   "outputs": [
    {
     "name": "stdout",
     "output_type": "stream",
     "text": [
      "Imports Done\n"
     ]
    }
   ],
   "source": [
    "import os, argparse, numpy as np, pandas as pd\n",
    "import matplotlib.pyplot as plt \n",
    "import illustris_python as il\n",
    "print(\"Imports Done\")\n",
    "\n",
    "# A useful print fucntion I often use for printing\n",
    "def tabprint( printme, start = '\\t - ', end = '\\n' ):\n",
    "    print( start + printme, end = end )"
   ]
  },
  {
   "cell_type": "markdown",
   "id": "462cc9a5-46ed-44a4-9f2a-f818722fd23d",
   "metadata": {},
   "source": [
    "---\n",
    "## Command Line Arguments\n",
    "\n",
    "This is written in JupyterLab, but will eventually be compiled and ran in python for faster results.  This will define the possible input command line arguements"
   ]
  },
  {
   "cell_type": "code",
   "execution_count": 2,
   "id": "80aad8ad-d829-43e3-81cb-950629bab0f4",
   "metadata": {},
   "outputs": [
    {
     "name": "stdout",
     "output_type": "stream",
     "text": [
      "Args: Defined\n"
     ]
    }
   ],
   "source": [
    "# This argument decides if code is in python or jupyter.\n",
    "buildEnv = False\n",
    "\n",
    "# Define argument parser function \n",
    "def initParser():\n",
    "    \n",
    "    parser = argparse.ArgumentParser()\n",
    "    \n",
    "    parser.add_argument( '-s', '--simDir', default = '../sims.TNG/TNG100-1/output/',  type=str, \\\n",
    "                        help=\"Base directory for a single simulation on the IllustrisTNG servers.\")   \n",
    "    \n",
    "    parser.add_argument( '-n', '--simName', default = 'TNG100-1',  type=str, \\\n",
    "                        help=\"Name for the simulation being worked on.\")\n",
    "    \n",
    "    parser.add_argument( '-o', '--overwrite', default = False,  type=bool, \\\n",
    "                        help=\"Overwrite output files?  If false, will check if output file exists before beginning time-consuming tasks.\")\n",
    "    \n",
    "    parser.add_argument( '-t', '--trim', default = -1,  type=int, \\\n",
    "                        help=\"Default number of subhalos to consider, sorted by highest mass first.\")\n",
    "    \n",
    "    parser.add_argument( '-f', '--function', default = 'None', type=str, \\\n",
    "                        help=\"Default function program will be executing.\")\n",
    "\n",
    "    return parser\n",
    "\n",
    "parser = initParser()\n",
    "print(\"Args: Defined\")"
   ]
  },
  {
   "cell_type": "markdown",
   "id": "6f28ddf0-65da-4a9f-950a-20619ed0afe7",
   "metadata": {},
   "source": [
    "## To Python? Or to JupyterLab? \n",
    "This will establish if this is being run in a JupyterLab environment or from Command Line in Python. \n",
    "\n",
    "NOTE:  If you're running this in Jupyter, modify the `cmdStr` below to whatever variable you need."
   ]
  },
  {
   "cell_type": "code",
   "execution_count": 3,
   "id": "cc3bad9c-5048-4aaa-b254-fdb542bc0b10",
   "metadata": {
    "tags": []
   },
   "outputs": [
    {
     "name": "stdout",
     "output_type": "stream",
     "text": [
      "In Building Environment\n",
      "CMD Line: \n",
      "\t$: python3 basic-working.py --simDir ../sims.TNG/TNG100-1/output/ --simName TNG100-1 --trim 10\n",
      "Args: Read\n",
      "Namespace(simDir='../sims.TNG/TNG100-1/output/', simName='TNG100-1', overwrite=False, trim=10, function='None')\n"
     ]
    }
   ],
   "source": [
    "# Am I in a jupyter notebook?\n",
    "try:\n",
    "    \n",
    "    # This command is NOT available in a python script\n",
    "    get_ipython().__class__.__name__\n",
    "    buildEnv = True\n",
    "    print (\"In Building Environment\")\n",
    "    \n",
    "    # Command Line Arguments\n",
    "    cmdStr  = 'python3 basic-working.py'\n",
    "    cmdStr += ' --simDir ../sims.TNG/TNG100-1/output/'\n",
    "    cmdStr += ' --simName TNG100-1'\n",
    "    cmdStr += ' --trim 10'\n",
    "    \n",
    "    # Read string as if command line\n",
    "    print( \"CMD Line: \\n\\t$:\", cmdStr)\n",
    "    \n",
    "    # This function doesn't like the 'python3 file.py' part.\n",
    "    args = parser.parse_args(cmdStr.split()[2:])\n",
    "\n",
    "# Or am I in a python script?\n",
    "except:\n",
    "    \n",
    "    # Read CMD arguments\n",
    "    args = parser.parse_args()\n",
    "    \n",
    "\n",
    "print( \"Args: Read\")\n",
    "print( args )"
   ]
  },
  {
   "cell_type": "code",
   "execution_count": 4,
   "id": "cd168c99-22b6-427d-9600-7c6ea4fb4bff",
   "metadata": {
    "tags": []
   },
   "outputs": [
    {
     "name": "stdout",
     "output_type": "stream",
     "text": [
      "Is this locational valid?\n",
      "Simulation data: True - ../sims.TNG/TNG100-1/output/\n"
     ]
    }
   ],
   "source": [
    "if buildEnv: \n",
    "    # Location of one simulation\n",
    "    print(\"Is this locational valid?\")\n",
    "    print( f\"Simulation data: {os.path.exists( args.simDir )} - {args.simDir}\" )"
   ]
  },
  {
   "cell_type": "markdown",
   "id": "28feb0bf-fed5-43f1-999a-854079cc1c20",
   "metadata": {},
   "source": [
    "---\n",
    "# Halos and SubHalos\n",
    "Within the simulation, Halos are the largest set of objects that are gravitationally bound to each other, I like to think of them as galaxy clusters.  Subhalos are also gravitationally bound objects but more dense.  I like to think of them as galaxies, globular clusters, etc."
   ]
  },
  {
   "cell_type": "markdown",
   "id": "2d2440ad-2baf-4826-a977-b11e1d885c83",
   "metadata": {},
   "source": [
    "___\n",
    "# Centrals and Satellites\n",
    "Halo's often have a singular central galaxy that's the largest, with smaller subhalos orbiting it called satellites.  For our purposes, we will be focusing on the central galaxies because they are the largest and have most likley undergone the most mergers. Let's get a list of subhalo IDs for the central galaxies.\n",
    "\n",
    "Note 1: The ID is an index for another list.\n",
    "\n",
    "Note 2: The Halos are ordered by largest mass first.\n",
    "\n",
    "Note 3: The jump between subhalo id's between halos tells us how many subhalos the halo has. "
   ]
  },
  {
   "cell_type": "code",
   "execution_count": 5,
   "id": "c21c19cf-a71c-494b-8b1b-31b53879a83d",
   "metadata": {
    "tags": []
   },
   "outputs": [
    {
     "name": "stdout",
     "output_type": "stream",
     "text": [
      "Reading Central Galaxy ID file: TNG100-1-final-central-galaxies.txt\n",
      "Galactic Cluster Count: (10,)\n",
      "Top 10 IDs: [    0 17185 31342 41582 52618 60731 69507 76086 83280 88663]\n"
     ]
    }
   ],
   "source": [
    "def getCentralIds( args, snapshot = 99 ):\n",
    "    \n",
    "    cLoc = f'{args.simName}-final-central-galaxies.txt'\n",
    "\n",
    "    # If already obtained, read from file\n",
    "    if os.path.exists( cLoc ) and not args.overwrite:\n",
    "        print(f\"Reading Central Galaxy ID file: {cLoc}\")\n",
    "        central_ids = np.loadtxt( cLoc, skiprows=1, dtype=int )\n",
    "\n",
    "    # Else, use IllustricTNG to get central IDs\n",
    "    else:\n",
    "        print(f\"Getting Central SubHalo IDs for sim: {args.simName}\")\n",
    "        \n",
    "        # The GroupFirstSub is the subhalo id for the largest subhalo in a halo.  \n",
    "        GroupFirstSub = il.groupcat.loadHalos( args.simDir, snapshot, fields=['GroupFirstSub'])\n",
    "        \n",
    "        # Filter out groups that contain no subhalos.\n",
    "        w = np.where(GroupFirstSub >= 0) # value of -1 indicates no subhalo in this group\n",
    "        central_ids = GroupFirstSub[w]\n",
    "        \n",
    "        print( f\"Writing Central IDs to file: {cLoc}\" )\n",
    "\n",
    "        cFile = open( cLoc, 'w' )\n",
    "        cFile.write(\"SubHaloID \\n\")\n",
    "        for c in central_ids:\n",
    "            cFile.write(f\"{c} \\n\")\n",
    "        cFile.close()\n",
    "\n",
    "        tabprint(\"Writing Complete\")\n",
    "    \n",
    "    # Trim some from the bottom, after saving all the \n",
    "    if args.trim != -1 and central_ids.shape[0] > args.trim:\n",
    "        central_ids = central_ids[0:args.trim]\n",
    "        \n",
    "    return central_ids\n",
    "\n",
    "\n",
    "if buildEnv and True: \n",
    "\n",
    "    central_ids = getCentralIds( args, snapshot=98 )\n",
    "\n",
    "    print( f'Galactic Cluster Count: {central_ids.shape}' )\n",
    "    print( f'Top 10 IDs: {central_ids[0:10]}' )\n",
    "    \n",
    "elif args.function == 'central-ids':\n",
    "        central_ids = getCentralIds( args )"
   ]
  },
  {
   "cell_type": "markdown",
   "id": "bb9a45fc-a549-4ad0-82b0-679a88a6fc5f",
   "metadata": {},
   "source": [
    "# Counting Significant Merger events\n",
    "We are specifically looking for major and minor mergers, where the secondary galaxy has a significant fraction of mass compared to the primary galaxy.  Let's define a ratio and look for mergers where the secondary galaxy needs at least that much mass in comparison to the primary galaxy.  \n",
    "\n",
    "Note: The following built in function tells us *how many* they've undergone, but not *when* they've undergone merger events.  But this could still be useful. Since we have 3 Million central galaxies to choose from, it might be useful to find galaxies that have undergone several mergers.  "
   ]
  },
  {
   "cell_type": "code",
   "execution_count": 9,
   "id": "4b729b8d-bb1b-4252-9827-aad95dbcbdf7",
   "metadata": {
    "tags": []
   },
   "outputs": [
    {
     "name": "stdout",
     "output_type": "stream",
     "text": [
      "Getting Central SubHalo IDs for sim: TNG100-1\n",
      "Writing Central IDs to file: TNG100-1-final-central-galaxies.txt\n",
      "\t - Writing Complete\n"
     ]
    },
    {
     "ename": "KeyError",
     "evalue": "0",
     "output_type": "error",
     "traceback": [
      "\u001b[0;31m---------------------------------------------------------------------------\u001b[0m",
      "\u001b[0;31mKeyError\u001b[0m                                  Traceback (most recent call last)",
      "Cell \u001b[0;32mIn[9], line 54\u001b[0m\n\u001b[1;32m     52\u001b[0m args\u001b[38;5;241m.\u001b[39moverwrite \u001b[38;5;241m=\u001b[39m \u001b[38;5;28;01mTrue\u001b[39;00m\n\u001b[1;32m     53\u001b[0m central_ids \u001b[38;5;241m=\u001b[39m getCentralIds( args )    \n\u001b[0;32m---> 54\u001b[0m merger_count \u001b[38;5;241m=\u001b[39m \u001b[43mgetMergerCount\u001b[49m\u001b[43m(\u001b[49m\u001b[43m \u001b[49m\u001b[43mcentral_ids\u001b[49m\u001b[43m,\u001b[49m\u001b[43m \u001b[49m\u001b[43margs\u001b[49m\u001b[43m \u001b[49m\u001b[43m)\u001b[49m\n\u001b[1;32m     55\u001b[0m \u001b[38;5;28mprint\u001b[39m( \u001b[38;5;124mf\u001b[39m\u001b[38;5;124m'\u001b[39m\u001b[38;5;124mMerger Count: \u001b[39m\u001b[38;5;132;01m{\u001b[39;00mmerger_count[\u001b[38;5;241m0\u001b[39m:\u001b[38;5;241m10\u001b[39m]\u001b[38;5;132;01m}\u001b[39;00m\u001b[38;5;124m'\u001b[39m )\n\u001b[1;32m     56\u001b[0m args\u001b[38;5;241m.\u001b[39moverwrite \u001b[38;5;241m=\u001b[39m \u001b[38;5;28;01mFalse\u001b[39;00m\n",
      "Cell \u001b[0;32mIn[9], line 33\u001b[0m, in \u001b[0;36mgetMergerCount\u001b[0;34m(central_ids, args, ratio)\u001b[0m\n\u001b[1;32m     30\u001b[0m     \u001b[38;5;66;03m# Pass merger tree into function to count mergers above ratio threshold\u001b[39;00m\n\u001b[1;32m     31\u001b[0m     merger_count[i] \u001b[38;5;241m=\u001b[39m il\u001b[38;5;241m.\u001b[39msublink\u001b[38;5;241m.\u001b[39mnumMergers( tree, minMassRatio\u001b[38;5;241m=\u001b[39mratio )\n\u001b[0;32m---> 33\u001b[0m     \u001b[38;5;28mprint\u001b[39m( \u001b[38;5;124mf\u001b[39m\u001b[38;5;124m\"\u001b[39m\u001b[38;5;130;01m\\t\u001b[39;00m\u001b[38;5;124m - \u001b[39m\u001b[38;5;132;01m{\u001b[39;00mi\u001b[38;5;132;01m}\u001b[39;00m\u001b[38;5;124m - \u001b[39m\u001b[38;5;132;01m{\u001b[39;00m\u001b[38;5;28mid\u001b[39m\u001b[38;5;132;01m}\u001b[39;00m\u001b[38;5;124m - \u001b[39m\u001b[38;5;132;01m{\u001b[39;00mmerger_count[i]\u001b[38;5;132;01m}\u001b[39;00m\u001b[38;5;124m - \u001b[39m\u001b[38;5;132;01m{\u001b[39;00m\u001b[38;5;28mlen\u001b[39m(\u001b[38;5;250m \u001b[39m\u001b[43mtree\u001b[49m\u001b[43m[\u001b[49m\u001b[38;5;241;43m0\u001b[39;49m\u001b[43m]\u001b[49m\u001b[38;5;250m \u001b[39m)\u001b[38;5;250m \u001b[39m\u001b[38;5;132;01m}\u001b[39;00m\u001b[38;5;124m\"\u001b[39m, end\u001b[38;5;241m=\u001b[39m\u001b[38;5;124m'\u001b[39m\u001b[38;5;130;01m\\r\u001b[39;00m\u001b[38;5;124m'\u001b[39m )\n\u001b[1;32m     35\u001b[0m \u001b[38;5;28mprint\u001b[39m( \u001b[38;5;124mf\u001b[39m\u001b[38;5;124m\"\u001b[39m\u001b[38;5;130;01m\\n\u001b[39;00m\u001b[38;5;124mWriting Merger Count to file: \u001b[39m\u001b[38;5;132;01m{\u001b[39;00mfLoc\u001b[38;5;132;01m}\u001b[39;00m\u001b[38;5;124m\"\u001b[39m )\n\u001b[1;32m     37\u001b[0m oFile \u001b[38;5;241m=\u001b[39m \u001b[38;5;28mopen\u001b[39m( fLoc, \u001b[38;5;124m'\u001b[39m\u001b[38;5;124mw\u001b[39m\u001b[38;5;124m'\u001b[39m )\n",
      "\u001b[0;31mKeyError\u001b[0m: 0"
     ]
    }
   ],
   "source": [
    "def getMergerCount( central_ids, args, ratio=0.1 ):\n",
    "    \n",
    "    # Check if file exists\n",
    "    if args.trim == -1:\n",
    "        fLoc = f'{args.simName}-merger-count.txt'\n",
    "    else:\n",
    "        fLoc = f'{args.simName}-merger-count-{args.trim}.txt'\n",
    "\n",
    "    # If already obtained, read from file\n",
    "    if os.path.exists( fLoc ) and not args.overwrite:\n",
    "        print(f\"Reading Merger Count file: {fLoc}\")\n",
    "        merger_count_merged = np.loadtxt( fLoc, skiprows=1, dtype=int )\n",
    "        \n",
    "        return merger_count_merged\n",
    "\n",
    "    # Else, use IllustricTNG to get Merger Count\n",
    "    else:    \n",
    "    \n",
    "        # the following fields are required for the walk and the mass ratio analysis\n",
    "        fields = ['SubhaloID','NextProgenitorID','MainLeafProgenitorID','FirstProgenitorID','SubhaloMassType']\n",
    "        \n",
    "        n = central_ids.shape[0]\n",
    "        merger_count = np.zeros( n, dtype=int )\n",
    "\n",
    "        for i, id in enumerate( central_ids ):\n",
    "\n",
    "            # Get merger tree\n",
    "            tree = il.sublink.loadTree( args.simDir, 99, id, fields=fields )\n",
    "            \n",
    "            # Pass merger tree into function to count mergers above ratio threshold\n",
    "            merger_count[i] = il.sublink.numMergers( tree, minMassRatio=ratio )\n",
    "\n",
    "            print( f\"\\t - {i} - {id} - {merger_count[i]} - \", end='\\r' )\n",
    "        \n",
    "        print( f\"\\nWriting Merger Count to file: {fLoc}\" )\n",
    "\n",
    "        oFile = open( fLoc, 'w' )\n",
    "        oFile.write(f\"SubHaloID Merger-Count-{ratio}\\n\")\n",
    "        for i in range( n ):\n",
    "            oFile.write(f\"{central_ids[i]} {merger_count[i]}\\n\")\n",
    "        oFile.close()\n",
    "\n",
    "        tabprint(\"Writing Complete\")\n",
    "        \n",
    "        return merger_count\n",
    "    \n",
    "    \n",
    "    \n",
    "\n",
    "if buildEnv and True:\n",
    "    args.trim = 10\n",
    "    args.overwrite = True\n",
    "    central_ids = getCentralIds( args )    \n",
    "    merger_count = getMergerCount( central_ids, args )\n",
    "    print( f'Merger Count: {merger_count[0:10]}' )\n",
    "    args.overwrite = False\n",
    "    \n",
    "\n",
    "# In python script\n",
    "elif args.function == 'merger-count':    \n",
    "    central_ids = getCentralIds( args )\n",
    "    getMergerCount( central_ids, args )"
   ]
  },
  {
   "cell_type": "code",
   "execution_count": 12,
   "id": "ef9ac0c9-a4e3-4745-a6a0-5c4fc8742921",
   "metadata": {
    "tags": []
   },
   "outputs": [
    {
     "name": "stdout",
     "output_type": "stream",
     "text": [
      "<class 'dict'>\n"
     ]
    }
   ],
   "source": [
    "\n",
    "# Get merger tree\n",
    "tree = il.sublink.loadTree( args.simDir, 99, central_ids[9] )\n",
    "print( type( tree ) )"
   ]
  },
  {
   "cell_type": "code",
   "execution_count": 15,
   "id": "30bdcb26-c5b3-4c1d-a275-e4aaca7f074d",
   "metadata": {
    "tags": []
   },
   "outputs": [
    {
     "name": "stdout",
     "output_type": "stream",
     "text": [
      "dict_keys(['count', 'DescendantID', 'FirstProgenitorID', 'FirstSubhaloInFOFGroupID', 'GroupBHMass', 'GroupBHMdot', 'GroupCM', 'GroupFirstSub', 'GroupGasMetalFractions', 'GroupGasMetallicity', 'GroupLen', 'GroupLenType', 'GroupMass', 'GroupMassType', 'GroupNsubs', 'GroupPos', 'GroupSFR', 'GroupStarMetalFractions', 'GroupStarMetallicity', 'GroupVel', 'GroupWindMass', 'Group_M_Crit200', 'Group_M_Crit500', 'Group_M_Mean200', 'Group_M_TopHat200', 'Group_R_Crit200', 'Group_R_Crit500', 'Group_R_Mean200', 'Group_R_TopHat200', 'LastProgenitorID', 'MainLeafProgenitorID', 'Mass', 'MassHistory', 'NextProgenitorID', 'NextSubhaloInFOFGroupID', 'NumParticles', 'RootDescendantID', 'SnapNum', 'SubfindID', 'SubhaloBHMass', 'SubhaloBHMdot', 'SubhaloBfldDisk', 'SubhaloBfldHalo', 'SubhaloCM', 'SubhaloGasMetalFractions', 'SubhaloGasMetalFractionsHalfRad', 'SubhaloGasMetalFractionsMaxRad', 'SubhaloGasMetalFractionsSfr', 'SubhaloGasMetalFractionsSfrWeighted', 'SubhaloGasMetallicity', 'SubhaloGasMetallicityHalfRad', 'SubhaloGasMetallicityMaxRad', 'SubhaloGasMetallicitySfr', 'SubhaloGasMetallicitySfrWeighted', 'SubhaloGrNr', 'SubhaloHalfmassRad', 'SubhaloHalfmassRadType', 'SubhaloID', 'SubhaloIDMostbound', 'SubhaloIDRaw', 'SubhaloLen', 'SubhaloLenType', 'SubhaloMass', 'SubhaloMassInHalfRad', 'SubhaloMassInHalfRadType', 'SubhaloMassInMaxRad', 'SubhaloMassInMaxRadType', 'SubhaloMassInRad', 'SubhaloMassInRadType', 'SubhaloMassType', 'SubhaloParent', 'SubhaloPos', 'SubhaloSFR', 'SubhaloSFRinHalfRad', 'SubhaloSFRinMaxRad', 'SubhaloSFRinRad', 'SubhaloSpin', 'SubhaloStarMetalFractions', 'SubhaloStarMetalFractionsHalfRad', 'SubhaloStarMetalFractionsMaxRad', 'SubhaloStarMetallicity', 'SubhaloStarMetallicityHalfRad', 'SubhaloStarMetallicityMaxRad', 'SubhaloStellarPhotometrics', 'SubhaloStellarPhotometricsMassInRad', 'SubhaloStellarPhotometricsRad', 'SubhaloVel', 'SubhaloVelDisp', 'SubhaloVmax', 'SubhaloVmaxRad', 'SubhaloWindMass', 'TreeID'])\n",
      "615559\n"
     ]
    }
   ],
   "source": [
    "print( tree.keys() )\n",
    "print( len( tree['DescendantID'] ) )"
   ]
  },
  {
   "cell_type": "markdown",
   "id": "e2df478a-d1ce-4481-8090-b969092689d2",
   "metadata": {},
   "source": [
    "# Going down the Merger Tree"
   ]
  },
  {
   "cell_type": "markdown",
   "id": "9e64b579-999b-496d-bdd8-c33c77b85184",
   "metadata": {},
   "source": [
    "## Understanding Trees as lists\n",
    "\n",
    "So I had a crash course in how trees can be represented as lists. Here are some of my key findings while trying to udnerstand the Tree. \n",
    "\n",
    "- This is a Tree, flattened into a list. \n",
    "- Index 0 is the root of the tree.  The original SubHaloID I fed into the loadTree function. \n",
    "- A single galaxy will have multiple SubHaloIDs, a seperate ID for each snapshot.\n",
    "- FirstProgenitorID: ID for this galaxy during the previous snapshot.  -1 if child node.\n",
    "- NextProgenitorID: Current galaxy will merge with this galaxy by the next snapshot.  -1 if no secondary galaxy.\n",
    "    - NOTE: If NextProgenitorID has a NextProgenitorID, then 3 or more subhalos were involved.\n",
    "    - NOTE: Despite the names first/next progenitor, they exist in different snapshots.  \n",
    "    - FirstProgentitor is a parent to the current progenitor.\n",
    "    - NextProgenitor and Current Subhalo are the parents for their DescendantID.  \n",
    "    - Or, if you're looking at the current SubHaloID, if the FirstProgenitor has a NextProgentitor, those two are it's primary and secondary parents.  \n",
    "- SubhaloMassType, SubhaloMass:  These are NOT sublink.Tree fields.  This implies the tree used the SubhaloID and queried the Group Catalog for additional subhalo info.  Helpful.\n",
    "- SubhaloIDRaw = SnapNum*10^12 + SubfindID"
   ]
  },
  {
   "cell_type": "code",
   "execution_count": 16,
   "id": "37ec7afc-0710-47a2-93e1-11487f9a3e7c",
   "metadata": {},
   "outputs": [
    {
     "name": "stdout",
     "output_type": "stream",
     "text": [
      "Getting Central SubHalo IDs for sim: TNG100-1\n",
      "Writing Central IDs to file: TNG100-1-final-central-galaxies.txt\n",
      "\t - Writing Complete\n",
      "\n",
      "Sample Merger info\n",
      "\n",
      "\t - root-SubHaloID - 17185\n",
      "\t - merger-ratio - 0.10219524055719376\n",
      "\t - child-SubhaloIDRaw - 7000000003426\n",
      "\t - child-SnapNum - 7\n",
      "\t - child-SubhaloID - 4515263\n",
      "\t - child-SubhaloMass - 2.744853973388672\n",
      "\t - child-DescendantID - 4515262\n",
      "\t - primary-SubhaloIDRaw - 6000000002872\n",
      "\t - primary-SnapNum - 6\n",
      "\t - primary-SubhaloID - 4515264\n",
      "\t - primary-SubhaloMass - 1.5854688882827759\n",
      "\t - primary-DescendantID - 4515263\n",
      "\t - secondary-SubhaloIDRaw - 6000000002875\n",
      "\t - secondary-SnapNum - 6\n",
      "\t - secondary-SubhaloID - 4515289\n",
      "\t - secondary-SubhaloMass - 0.18047061562538147\n",
      "\t - secondary-DescendantID - 4515263\n",
      "\n",
      "End Sample\n",
      "Searching for Mergers for 10 Root Galaxies\n",
      "\t - 9 - 88663\n",
      "Finding Mergers Complete\n",
      "Saving Mergers to file: TNG100-1-merger-events-10.csv\n"
     ]
    }
   ],
   "source": [
    "def find_major_mergers_for_subhalo( subhalo_id, args, cutoff_ratio=0.1, snapshot=99 ):\n",
    "    \"\"\"\n",
    "    Find major mergers for a given subhalo ID based on a specified mass ratio.\n",
    "    Returns:\n",
    "    list of dicts containing child, primary, and secondary parent information.\n",
    "    \n",
    "    NOTE:   This only follows the two largest galaxies if a major merger is detected.  \\\n",
    "            Does not follow secondary or other parents that are less than 1/10 of child mass.\n",
    "\n",
    "    \"\"\"\n",
    "    # Fields to load from the merger tree\n",
    "    #fields = ['SubhaloID', 'NextProgenitorID', 'FirstProgenitorID', 'SubhaloMass']\n",
    "    fields = ['SubhaloID','NextProgenitorID','MainLeafProgenitorID','FirstProgenitorID',\\\n",
    "              'SubhaloIDRaw','SubhaloMass', 'RootDescendantID', 'SnapNum', 'DescendantID']\n",
    "\n",
    "    # Load the merger tree\n",
    "    tree = il.sublink.loadTree( args.simDir, snapshot, subhalo_id, fields=fields)\n",
    "    \n",
    "    # Create a dictionary to map Subhalo IDs to their index in the list\n",
    "    subhalo_index = {subhalo_id: index for index, subhalo_id in enumerate(tree['SubhaloID'])} \n",
    "    \n",
    "    # List to store major mergers\n",
    "    major_mergers = []\n",
    "    \n",
    "    # Create queue of index values to work way through.  Add root index of 0.\n",
    "    queue = [ 0 ] \n",
    "    i = 0  # Keep track of visited nodes\n",
    "\n",
    "    # Traverse the tree\n",
    "    while len( queue ) > 0:\n",
    "        \n",
    "        # Get current index of note\n",
    "        ci = queue.pop(0)\n",
    "        i+= 1\n",
    "                \n",
    "        # Get primary and secondary ids\n",
    "        pi = subhalo_index.get( tree['FirstProgenitorID'][ci], -1 )\n",
    "        si = subhalo_index.get( tree['NextProgenitorID'][pi], -1 )\n",
    "        \n",
    "        # If FirstProgenitorID is -1, then you've reached a leaf node. \n",
    "        if pi == -1:  continue        \n",
    "        # else add, primary to queue\n",
    "        else: queue.append( pi )\n",
    "        \n",
    "        # If Secardy parent exists, add to queue. \n",
    "        # if si != -1:  queue.append( si )\n",
    "        \n",
    "        \n",
    "        # If secondary galaxy exists, check if mass ratio is great enough for a major merger\n",
    "        if si != -1:\n",
    "            primary_mass = tree['SubhaloMass'][pi]\n",
    "            secondary_mass = tree['SubhaloMass'][si]\n",
    "            merger_ratio = secondary_mass / ( primary_mass + secondary_mass )\n",
    "\n",
    "            # If great enough, grab info and append\n",
    "            if merger_ratio >= cutoff_ratio:\n",
    "                \n",
    "                # Add secondary id to queue\n",
    "                queue.append( si )\n",
    "                \n",
    "                merger_info = {}\n",
    "                \n",
    "                merger_info['root-SubHaloID'] = subhalo_id\n",
    "                merger_info['merger-ratio'] = merger_ratio\n",
    "                \n",
    "                # Get info for final child, primary and secondary parents. \n",
    "                for j, name in [ (ci,'child'), (pi,'primary'), (si,'secondary') ]:\n",
    "                    \n",
    "                    merger_info[f'{name}-SubhaloIDRaw'] = tree['SubhaloIDRaw'][j]\n",
    "                    merger_info[f'{name}-SnapNum']      = tree['SnapNum'][j]\n",
    "                    merger_info[f'{name}-SubhaloID']    = tree['SubhaloID'][j]\n",
    "                    merger_info[f'{name}-SubhaloMass']  = tree['SubhaloMass'][j]\n",
    "                    merger_info[f'{name}-DescendantID']  = tree['DescendantID'][j]\n",
    "                \n",
    "                major_mergers.append( merger_info )\n",
    "                \n",
    "                \n",
    "        # end major merger\n",
    "        \n",
    "    # End looping queue\n",
    "    # print(f\"Root ID: {subhalo_id} - Found {len(major_mergers)} mergers - Visited {i} nodes. \")\n",
    "    return major_mergers\n",
    "\n",
    "\n",
    "def getMajorMergers( central_ids, args, ratio=0.1 ):\n",
    "    \n",
    "    import pandas as pd\n",
    "\n",
    "    # Check if file exists\n",
    "    if args.trim == -1:\n",
    "        fLoc = f'{args.simName}-merger-events.csv'\n",
    "    else:\n",
    "        fLoc = f'{args.simName}-merger-events-{args.trim}.csv'\n",
    "\n",
    "    # If already obtained, read from file\n",
    "    if os.path.exists( fLoc ) and not args.overwrite:\n",
    "        print(f\"Reading File: {fLoc}\")\n",
    "        merger_events = pd.read_csv( fLoc )\n",
    "        return merger_events\n",
    "    \n",
    "    # Else, create file\n",
    "    \n",
    "    print( f\"Searching for Mergers for {central_ids.shape[0]} Root Galaxies\" )\n",
    "    merger_events = []\n",
    "    for i, cid in enumerate(central_ids):\n",
    "        print( f\"\\t - {i} - {cid}\", end='\\r')\n",
    "        merger_events += find_major_mergers_for_subhalo( cid, args ) \n",
    "        \n",
    "    print(\"\\nFinding Mergers Complete\")\n",
    "    \n",
    "    print( f\"Saving Mergers to file: {fLoc}\")\n",
    "    df = pd.DataFrame.from_dict( merger_events )    \n",
    "    df.to_csv( fLoc, index = False )\n",
    "    \n",
    "    return df\n",
    "    \n",
    "if buildEnv and True:    \n",
    "    \n",
    "    central_ids = getCentralIds( args )\n",
    "    \n",
    "    ratio = 0.1  # Replace with desired ratio \n",
    "    major_mergers = find_major_mergers_for_subhalo( central_ids[1], args )\n",
    "    \n",
    "    print( '\\nSample Merger info\\n' )\n",
    "    for k in major_mergers[0]:\n",
    "        print( f\"\\t - {k} - {major_mergers[0][k]}\")\n",
    "    \n",
    "    print(\"\\nEnd Sample\")\n",
    "    # print( major_mergers[0] )\n",
    "    mergers = getMajorMergers( central_ids, args )\n",
    "    \n",
    "elif args.function == 'find-mergers':\n",
    "\n",
    "    central_ids = getCentralIds( args )    \n",
    "    mergers = getMajorMergers( central_ids, args )"
   ]
  },
  {
   "cell_type": "markdown",
   "id": "83df6701-6a11-4e58-812f-8e8c01e148d8",
   "metadata": {},
   "source": [
    "# Getting SubHalo Data\n",
    "\n",
    "Now that we have SubhaloIDs and Snapshot Numbers for the 3 primary galaxies involved with the mergers, let's grab additional information about them elsewhere.  "
   ]
  },
  {
   "cell_type": "markdown",
   "id": "e7f15b6f-46c4-4c29-8230-1aa22c10e18d",
   "metadata": {},
   "source": [
    "## Flatten the Retrieved data. \n",
    "\n",
    "The data is returned in a nested dictionary.  Using ChatGPT, we wrote a function that will take the nested arrays and create additional columns instead.  "
   ]
  },
  {
   "cell_type": "markdown",
   "id": "045bc564-d0d6-49ed-8b07-6a5378e31e52",
   "metadata": {},
   "source": [
    "## Loop through merger events and create a row for each galaxy.  "
   ]
  },
  {
   "cell_type": "code",
   "execution_count": 17,
   "id": "3a2dad93-ed1b-4ccf-9839-1b827400d0bf",
   "metadata": {
    "tags": []
   },
   "outputs": [
    {
     "name": "stdout",
     "output_type": "stream",
     "text": [
      "Reading Central Galaxy ID file: TNG100-1-final-central-galaxies.txt\n",
      "Reading File: TNG100-1-merger-events-10.csv\n",
      "Getting Central SubHalo IDs for sim: TNG100-1\n",
      "Writing Central IDs to file: TNG100-1-final-central-galaxies.txt\n",
      "\t - Writing Complete\n",
      "Searching for Mergers for 10 Root Galaxies\n",
      "\t - 9 - 88663\n",
      "Finding Mergers Complete\n",
      "Saving Mergers to file: TNG100-1-merger-events-10.csv\n",
      "\n",
      "Retrieved SubHalo Data\n",
      "Saving Subhalo Data to file: TNG100-1-subhalo-data-10.csv\n",
      "Done\n"
     ]
    }
   ],
   "source": [
    "def extractSubhaloFromMerger( mergers ):\n",
    "    \n",
    "    # List of subhalo identifiers, requires both SubhaloID and Snap Number. \n",
    "    idList = []\n",
    "    \n",
    "    # Iterate through dataframe    \n",
    "    for i in mergers.index:\n",
    "        \n",
    "        # Loop through 3 galaxies in each row\n",
    "        for name in ['child','primary','secondary']:\n",
    "            \n",
    "            id_raw = int( mergers[f'{name}-SubhaloIDRaw'][i] )\n",
    "            \n",
    "            info = {}\n",
    "            info['RawID'] = id_raw\n",
    "            info['SnapNum'] = int( id_raw / 10e11 )\n",
    "            info['SubhaloID'] = int( id_raw % 10e11 )\n",
    "            info['SubhaloIDRaw'] = mergers[f'{name}-SubhaloIDRaw'][i]\n",
    "            info['SubhaloMass'] = mergers[f'{name}-SubhaloMass'][i]\n",
    "            \n",
    "            # Extract and append gal infor\n",
    "            idList.append( info )\n",
    "    \n",
    "    return idList\n",
    "\n",
    "\n",
    "# The following was generated via OpenAI. (2023). ChatGPT [Large language model]. https://chat.openai.com\n",
    "def flatten_subhalo_data(subhalo_data):\n",
    "    # Function to flatten specific array fields in the subhalo data dictionary\n",
    "\n",
    "    def flatten_array(key, labels):\n",
    "        # Flatten an array field and add individual elements with labels\n",
    "        array = subhalo_data.get(key)\n",
    "        if array is not None:\n",
    "            for i, label in enumerate(labels):\n",
    "                subhalo_data[f\"{key}-{label}\"] = array[i]\n",
    "            del subhalo_data[key]\n",
    "\n",
    "    # Flatten 3D coordinate fields\n",
    "    coords = ['X', 'Y', 'Z']\n",
    "    for field in ['SubhaloCM', 'SubhaloPos', 'SubhaloSpin', 'SubhaloVel']:\n",
    "        flatten_array(field, coords)\n",
    "\n",
    "    # Flatten particle type fields\n",
    "    particle_types = ['GAS', 'DM', 'UNUSED', 'TRACERS', 'STARS_WIND', 'BLACK_HOLES']\n",
    "    for field in ['SubhaloHalfmassRadType', 'SubhaloMassInHalfRadType', 'SubhaloMassInMaxRadType', \n",
    "                  'SubhaloMassInRadType', 'SubhaloMassType', 'SubhaloLenType']:\n",
    "        flatten_array(field, particle_types)\n",
    "\n",
    "    # Flatten metal fractions and other 10-element arrays\n",
    "    elements = ['H', 'He', 'C', 'N', 'O', 'Ne', 'Mg', 'Si', 'Fe', 'Total']\n",
    "    for field in ['SubhaloGasMetalFractions', 'SubhaloGasMetalFractionsHalfRad', \n",
    "                  'SubhaloGasMetalFractionsMaxRad', 'SubhaloGasMetalFractionsSfr', \n",
    "                  'SubhaloGasMetalFractionsSfrWeighted', 'SubhaloStarMetalFractions', \n",
    "                  'SubhaloStarMetalFractionsHalfRad', 'SubhaloStarMetalFractionsMaxRad']:\n",
    "        flatten_array(field, elements)\n",
    "\n",
    "    # Flatten photometric data\n",
    "    bands = ['U', 'B', 'V', 'K', 'g', 'r', 'i', 'z']\n",
    "    flatten_array('SubhaloStellarPhotometrics', bands)\n",
    "\n",
    "    return subhalo_data\n",
    "\n",
    "\n",
    "def getSubhaloDataFromMergers( args ):\n",
    "\n",
    "    # Check if file exists\n",
    "    if args.trim == -1:\n",
    "        fLoc = f'{args.simName}-subhalo-data.csv'\n",
    "    else:\n",
    "        fLoc = f'{args.simName}-subhalo-data-{args.trim}.csv'\n",
    "\n",
    "    # If already obtained, read from file\n",
    "    if os.path.exists( fLoc ) and not args.overwrite:\n",
    "        print(f\"Reading File: {fLoc}\")\n",
    "        subhalo_data = pd.read_csv( fLoc )\n",
    "        return subhalo_data\n",
    "    \n",
    "    # Else, create the subhalo table\n",
    "    \n",
    "    # Get the starting central IDs and related mergers\n",
    "    central_ids = getCentralIds( args )\n",
    "    mergers = getMajorMergers( central_ids, args )\n",
    "\n",
    "    # Extract subhalo IDs and Snapshot numbers\n",
    "    subhalo_ids = extractSubhaloFromMerger( mergers )\n",
    "    subhalo_list = []\n",
    "    \n",
    "    # Go through and grab their info\n",
    "    for i in range( len( subhalo_ids) ):\n",
    "        sub_info = il.groupcat.loadSingle(args.simDir, subhalo_ids[i]['SnapNum'], subhaloID=subhalo_ids[i]['SubhaloID'])\n",
    "        \n",
    "        # flatten \n",
    "        flattened_sub_info = flatten_subhalo_data( sub_info )\n",
    "        flattened_sub_info['SubhaloIDRaw'] = subhalo_ids[i]['SubhaloIDRaw']\n",
    "        \n",
    "        subhalo_list.append( flattened_sub_info )\n",
    "    \n",
    "    # Done looping through subhalo's\n",
    "    print(\"\\nRetrieved SubHalo Data\")\n",
    "    \n",
    "    # Create dataframe out of dictionary.  Save dataframe as csv\n",
    "    print( f\"Saving Subhalo Data to file: {fLoc}\")\n",
    "    \n",
    "    subhalo_df = pd.DataFrame.from_dict( subhalo_list )    \n",
    "    subhalo_df.to_csv( fLoc, index = False )\n",
    "    \n",
    "    return subhalo_df\n",
    "        \n",
    "if buildEnv and True:\n",
    "\n",
    "    args.overwrite = False\n",
    "    central_ids = getCentralIds( args )\n",
    "    mergers = getMajorMergers( central_ids, args )\n",
    "\n",
    "    # Extract subhalo IDs and Snapshot numbers\n",
    "    ids = extractSubhaloFromMerger( mergers )\n",
    "    \n",
    "    # Go through and grab their info\n",
    "    i = 0\n",
    "    sub = il.groupcat.loadSingle(args.simDir, ids[i]['SnapNum'], subhaloID=ids[i]['SubhaloID'])\n",
    "    \n",
    "    # Now, let's flatten the dictionary so it can be added to a table. \n",
    "    flattened_sub_data = flatten_subhalo_data(sub)\n",
    "    \n",
    "    if False:\n",
    "        for i, k in enumerate(flattened_sub_data):\n",
    "            print( f\"\\t - {k}: {flattened_sub_data[k]} \")\n",
    "            if i > 20: \n",
    "                print('...')\n",
    "                break\n",
    "    args.overwrite = True\n",
    "    subhalo_table = getSubhaloDataFromMergers( args )\n",
    "    \n",
    "    print('Done')\n",
    "    "
   ]
  },
  {
   "cell_type": "code",
   "execution_count": 9,
   "id": "786bcba5-fdc2-48be-9f67-e42319c84295",
   "metadata": {},
   "outputs": [],
   "source": [
    "## This is a dictionary/json of what all the values are \n",
    "subhalo_fields = {\n",
    "    \"SubhaloFlag\": {\n",
    "        \"field_name\": \"SubhaloFlag\",\n",
    "        \"datatype\": \"int16\",\n",
    "        \"dimensions\": \"N\",\n",
    "        \"units\": \"-\",\n",
    "        \"description\": \"Flag field indicating suitability of this subhalo for certain types of analysis. If zero, this subhalo should generally be excluded, and is not thought to be of cosmological origin.\"\n",
    "    },\n",
    "    \"SubhaloBHMass\": {\n",
    "        \"field_name\": \"SubhaloBHMass\",\n",
    "        \"datatype\": \"float32\",\n",
    "        \"dimensions\": \"N\",\n",
    "        \"units\": \"10^10 M⊙/h\",\n",
    "        \"description\": \"Sum of the masses of all blackholes in this subhalo.\"\n",
    "    },\n",
    "    \"SubhaloBHMdot\": {\n",
    "        \"field_name\": \"SubhaloBHMdot\",\n",
    "        \"datatype\": \"float32\",\n",
    "        \"dimensions\": \"N\",\n",
    "        \"units\": \"(10^10 M⊙/h)/(0.978 Gyr/h)\",\n",
    "        \"description\": \"Sum of the instantaneous accretion rates M˙ of all blackholes in this subhalo.\"\n",
    "    },\n",
    "    \"SubhaloBfldDisk\": {\n",
    "        \"field_name\": \"SubhaloBfldDisk\",\n",
    "        \"datatype\": \"float32\",\n",
    "        \"dimensions\": \"N\",\n",
    "        \"units\": \"(h/a^2) (UnitPressure)^1/2\",\n",
    "        \"description\": \"The square root of the volume weighted value of B^2 for all gas cells within the canonical two times the stellar half mass radius.\"\n",
    "    },\n",
    "    \"SubhaloBfldHalo\": {\n",
    "        \"field_name\": \"SubhaloBfldHalo\",\n",
    "        \"datatype\": \"float32\",\n",
    "        \"dimensions\": \"N\",\n",
    "        \"units\": \"(h/a^2) (UnitPressure)^1/2\",\n",
    "        \"description\": \"The square root of the volume weighted value of B^2 for all gas cells in the subhalo.\"\n",
    "    },\n",
    "    \"SubhaloCM\": {\n",
    "        \"field_name\": \"SubhaloCM\",\n",
    "        \"datatype\": \"float32\",\n",
    "        \"dimensions\": \"N,3\",\n",
    "        \"units\": \"ckpc/h\",\n",
    "        \"description\": \"Comoving center of mass of the Subhalo, computed as the sum of the mass weighted relative coordinates of all particles/cells in the Subhalo, of all types.\"\n",
    "    },\n",
    "    # ... Continue for each field ...\n",
    "}"
   ]
  },
  {
   "cell_type": "code",
   "execution_count": 11,
   "id": "98b22ff2-b569-472b-a6fa-58a799af4150",
   "metadata": {
    "tags": []
   },
   "outputs": [
    {
     "name": "stdout",
     "output_type": "stream",
     "text": [
      "Header\n",
      "Snapshot_95\n",
      "Snapshot_99\n"
     ]
    }
   ],
   "source": [
    "# Let's let at galaxy morphologies\n",
    "import h5py\n",
    "morphFile = h5py.File('morphologies_deeplearn.hdf5', 'r')\n",
    "\n",
    "for name in morphFile:\n",
    "    print( name )"
   ]
  },
  {
   "cell_type": "markdown",
   "id": "6746d6b2-8199-4f68-bcf9-cd45592beea7",
   "metadata": {},
   "source": [
    "# Central Masses over time\n",
    "It is theorized that galaxies typically gain most of their mass through collisions with other galaxies.  Let's plot the mass growing over the simulation snapshots.  Notice the mass growth is on a log scale. Also notice sharp dips in some galaxies.  These dips are likley galaxies currently undergoing merger events, where the missing mass was labeled as belonging to the other galaxy before final collision.  "
   ]
  },
  {
   "cell_type": "code",
   "execution_count": 68,
   "id": "abbe282c-d688-4a4c-b8b5-2cc5da5c1bae",
   "metadata": {
    "tags": []
   },
   "outputs": [],
   "source": [
    "if buildEnv and False:\n",
    "    import matplotlib.pyplot as plt \n",
    "    fig = plt.figure(figsize=(10,8))\n",
    "    ax = fig.add_subplot(111)\n",
    "\n",
    "    fields = ['SubhaloMass','SubfindID','SnapNum']\n",
    "    start = 99\n",
    "    for i in range(start, start+5):\n",
    "        tree = il.sublink.loadTree( args.simDir, 99, central_ids[i], fields=fields, onlyMPB=True)\n",
    "        mass_msun = tree['SubhaloMass'] * 1e10 / 0.6774\n",
    "        ax.plot(tree['SnapNum'], mass_msun, '-', label='sub %d' % central_ids[i])\n",
    "\n",
    "    ax.set_yscale('log')\n",
    "    ax.set_xlabel('Snapshot Number')\n",
    "    ax.set_ylabel('Total Subhalo Mass [M$_\\odot$]')\n",
    "    ax.legend();"
   ]
  },
  {
   "cell_type": "code",
   "execution_count": 17,
   "id": "2249f253-5fce-45a4-a9a8-6c0d5e714d16",
   "metadata": {
    "tags": []
   },
   "outputs": [
    {
     "name": "stdout",
     "output_type": "stream",
     "text": [
      "Requirement already satisfied: astromartini[tngsource]==2.0.5 in /home/tnguser/.local/lib/python3.11/site-packages (2.0.5)\n",
      "Requirement already satisfied: numpy in /opt/conda/lib/python3.11/site-packages (from astromartini[tngsource]==2.0.5) (1.24.3)\n",
      "Requirement already satisfied: scipy in /opt/conda/lib/python3.11/site-packages (from astromartini[tngsource]==2.0.5) (1.11.1)\n",
      "Requirement already satisfied: astropy in /opt/conda/lib/python3.11/site-packages (from astromartini[tngsource]==2.0.5) (5.3.2)\n",
      "Requirement already satisfied: tqdm in /opt/conda/lib/python3.11/site-packages (from astromartini[tngsource]==2.0.5) (4.66.1)\n",
      "Requirement already satisfied: hdecompose in /home/tnguser/.local/lib/python3.11/site-packages (from astromartini[tngsource]==2.0.5) (0.1.0)\n",
      "Requirement already satisfied: h5py in /opt/conda/lib/python3.11/site-packages (from astromartini[tngsource]==2.0.5) (3.9.0)\n",
      "Requirement already satisfied: requests in /opt/conda/lib/python3.11/site-packages (from astromartini[tngsource]==2.0.5) (2.31.0)\n",
      "Requirement already satisfied: six in /opt/conda/lib/python3.11/site-packages (from astromartini[tngsource]==2.0.5) (1.16.0)\n",
      "Requirement already satisfied: pyerfa>=2.0 in /opt/conda/lib/python3.11/site-packages (from astropy->astromartini[tngsource]==2.0.5) (2.0.0.3)\n",
      "Requirement already satisfied: PyYAML>=3.13 in /opt/conda/lib/python3.11/site-packages (from astropy->astromartini[tngsource]==2.0.5) (6.0)\n",
      "Requirement already satisfied: packaging>=19.0 in /opt/conda/lib/python3.11/site-packages (from astropy->astromartini[tngsource]==2.0.5) (23.1)\n",
      "Requirement already satisfied: charset-normalizer<4,>=2 in /opt/conda/lib/python3.11/site-packages (from requests->astromartini[tngsource]==2.0.5) (3.2.0)\n",
      "Requirement already satisfied: idna<4,>=2.5 in /opt/conda/lib/python3.11/site-packages (from requests->astromartini[tngsource]==2.0.5) (3.4)\n",
      "Requirement already satisfied: urllib3<3,>=1.21.1 in /opt/conda/lib/python3.11/site-packages (from requests->astromartini[tngsource]==2.0.5) (1.26.16)\n",
      "Requirement already satisfied: certifi>=2017.4.17 in /opt/conda/lib/python3.11/site-packages (from requests->astromartini[tngsource]==2.0.5) (2023.7.22)\n"
     ]
    }
   ],
   "source": [
    "import sys\n",
    "\n",
    "!{sys.executable} -m pip install astromartini[tngsource]==2.0.5"
   ]
  },
  {
   "cell_type": "code",
   "execution_count": 5,
   "id": "f1dd5d61-5860-4b68-b3bf-6b2b7baa10d6",
   "metadata": {},
   "outputs": [
    {
     "name": "stdout",
     "output_type": "stream",
     "text": [
      "done\n"
     ]
    }
   ],
   "source": [
    "import martini\n",
    "from astropy.io import fits\n",
    "\n",
    "print('done')"
   ]
  },
  {
   "cell_type": "code",
   "execution_count": 6,
   "id": "72107c7a-0ccc-4d7b-a56e-98a4202927f8",
   "metadata": {
    "tags": []
   },
   "outputs": [
    {
     "name": "stdout",
     "output_type": "stream",
     "text": [
      "Source module contained 500 particles with total HI mass of 5.00e+09 solMass.\n",
      "Pruned particles that will not contribute to data cube, 500 particles remaining with total HI mass of 5.00e+09 solMass.\n"
     ]
    },
    {
     "name": "stderr",
     "output_type": "stream",
     "text": [
      "100%|██████████| 23716/23716 [00:16<00:00, 1427.19it/s]\n"
     ]
    },
    {
     "name": "stdout",
     "output_type": "stream",
     "text": [
      "Source inserted.\n",
      "  Flux in cube: 2.34e+02 Jy\n",
      "  Mass in cube (assuming distance 3.00 Mpc): 4.98e+09 solMass\n",
      "    [100% of initial source mass]\n",
      "  Maximum pixel: 4.77e-03 Jy / arcsec2\n",
      "  Median non-zero pixel: 6.75e-09 Jy / arcsec2\n",
      "Noise added.\n",
      "  Noise cube RMS: 1.46e-07 Jy / arcsec2 (before beam convolution).\n",
      "  Data cube RMS after noise addition (before beam convolution): 5.60e-05 Jy / arcsec2\n",
      "Beam convolved.\n",
      "  Data cube RMS after beam convolution: 4.48e-02 Jy / beam\n",
      "  Maximum pixel: 1.93e+00 Jy / beam\n",
      "  Median non-zero pixel: 2.48e-05 Jy / beam\n",
      "Wrote demo fits output to testcube.fits, and beam image to testbeam.fits.\n",
      "Wrote demo hdf5 output to testcube.hdf5.\n"
     ]
    }
   ],
   "source": [
    "from martini import demo\n",
    "\n",
    "demo()"
   ]
  },
  {
   "cell_type": "code",
   "execution_count": 20,
   "id": "66305893-bdce-471e-9d6f-7d9751971a83",
   "metadata": {
    "tags": []
   },
   "outputs": [
    {
     "name": "stdout",
     "output_type": "stream",
     "text": [
      "(32, 128, 128)\n"
     ]
    },
    {
     "data": {
      "text/plain": [
       "<matplotlib.image.AxesImage at 0x7fdd0e2f6b90>"
      ]
     },
     "execution_count": 20,
     "metadata": {},
     "output_type": "execute_result"
    },
    {
     "data": {
      "image/png": "[encoded data removed]",
      "text/plain": [
       "<Figure size 640x480 with 1 Axes>"
      ]
     },
     "metadata": {},
     "output_type": "display_data"
    }
   ],
   "source": [
    "image_data = fits.getdata(image_file)\n",
    "print( image_data.shape )\n",
    "\n",
    "plt.imshow(image_data[0], cmap='gray')\n"
   ]
  },
  {
   "cell_type": "code",
   "execution_count": 13,
   "id": "4925bc18-f493-4869-a0fb-601c113c4f1e",
   "metadata": {
    "tags": []
   },
   "outputs": [
    {
     "name": "stdin",
     "output_type": "stream",
     "text": [
      "TNG web API key: ········\n"
     ]
    }
   ],
   "source": [
    "from getpass import getpass\n",
    "\n",
    "api_key = getpass(\"TNG web API key:\")"
   ]
  },
  {
   "cell_type": "code",
   "execution_count": 14,
   "id": "c7d207d9-0478-4974-af37-d3edb5ed78fb",
   "metadata": {
    "tags": []
   },
   "outputs": [],
   "source": [
    "simulation = \"TNG100-1\"\n",
    "snapshot = 99\n",
    "subhalo_id = 400547  # a central subhalo with 218 < Vmax < 220, and SFR > 1"
   ]
  },
  {
   "cell_type": "code",
   "execution_count": 15,
   "id": "3f40ab21-a9b1-4dc3-98e7-1a5937a04331",
   "metadata": {
    "tags": []
   },
   "outputs": [],
   "source": [
    "from martini.sources import TNGSource\n",
    "from martini import DataCube, Martini\n",
    "from martini.beams import GaussianBeam\n",
    "from martini.noise import GaussianNoise\n",
    "from martini.spectral_models import GaussianSpectrum\n",
    "from martini.sph_kernels import CubicSplineKernel\n",
    "import astropy.units as U"
   ]
  },
  {
   "cell_type": "code",
   "execution_count": null,
   "id": "7ddffa53-156d-4d63-8a95-4fefff476057",
   "metadata": {},
   "outputs": [],
   "source": []
  },
  {
   "cell_type": "code",
   "execution_count": 16,
   "id": "dee47477-8775-4d74-a8d7-6f2a89e3e2d3",
   "metadata": {
    "tags": []
   },
   "outputs": [
    {
     "ename": "ImportError",
     "evalue": "cannot import name 'getSnapOffsets' from 'martini.sources._illustris_tools' (/home/tnguser/.local/lib/python3.11/site-packages/martini/sources/_illustris_tools.py)",
     "output_type": "error",
     "traceback": [
      "\u001b[0;31m---------------------------------------------------------------------------\u001b[0m",
      "\u001b[0;31mImportError\u001b[0m                               Traceback (most recent call last)",
      "Cell \u001b[0;32mIn[16], line 1\u001b[0m\n\u001b[0;32m----> 1\u001b[0m source \u001b[38;5;241m=\u001b[39m \u001b[43mTNGSource\u001b[49m\u001b[43m(\u001b[49m\n\u001b[1;32m      2\u001b[0m \u001b[43m    \u001b[49m\u001b[43msimulation\u001b[49m\u001b[43m,\u001b[49m\n\u001b[1;32m      3\u001b[0m \u001b[43m    \u001b[49m\u001b[43msnapshot\u001b[49m\u001b[43m,\u001b[49m\n\u001b[1;32m      4\u001b[0m \u001b[43m    \u001b[49m\u001b[43msubhalo_id\u001b[49m\u001b[43m,\u001b[49m\n\u001b[1;32m      5\u001b[0m \u001b[43m    \u001b[49m\u001b[43mapi_key\u001b[49m\u001b[38;5;241;43m=\u001b[39;49m\u001b[43mapi_key\u001b[49m\u001b[43m,\u001b[49m\n\u001b[1;32m      6\u001b[0m \u001b[43m    \u001b[49m\u001b[43mcutout_dir\u001b[49m\u001b[38;5;241;43m=\u001b[39;49m\u001b[38;5;124;43m\"\u001b[39;49m\u001b[38;5;124;43m.\u001b[39;49m\u001b[38;5;124;43m\"\u001b[39;49m\u001b[43m,\u001b[49m\n\u001b[1;32m      7\u001b[0m \u001b[43m    \u001b[49m\u001b[43mdistance\u001b[49m\u001b[38;5;241;43m=\u001b[39;49m\u001b[38;5;241;43m4\u001b[39;49m\u001b[43m \u001b[49m\u001b[38;5;241;43m*\u001b[39;49m\u001b[43m \u001b[49m\u001b[43mU\u001b[49m\u001b[38;5;241;43m.\u001b[39;49m\u001b[43mMpc\u001b[49m\u001b[43m,\u001b[49m\n\u001b[1;32m      8\u001b[0m \u001b[43m    \u001b[49m\u001b[43mrotation\u001b[49m\u001b[38;5;241;43m=\u001b[39;49m\u001b[43m{\u001b[49m\u001b[38;5;124;43m\"\u001b[39;49m\u001b[38;5;124;43mL_coords\u001b[39;49m\u001b[38;5;124;43m\"\u001b[39;49m\u001b[43m:\u001b[49m\u001b[43m \u001b[49m\u001b[43m(\u001b[49m\u001b[38;5;241;43m60\u001b[39;49m\u001b[43m \u001b[49m\u001b[38;5;241;43m*\u001b[39;49m\u001b[43m \u001b[49m\u001b[43mU\u001b[49m\u001b[38;5;241;43m.\u001b[39;49m\u001b[43mdeg\u001b[49m\u001b[43m,\u001b[49m\u001b[43m \u001b[49m\u001b[38;5;241;43m0.0\u001b[39;49m\u001b[43m \u001b[49m\u001b[38;5;241;43m*\u001b[39;49m\u001b[43m \u001b[49m\u001b[43mU\u001b[49m\u001b[38;5;241;43m.\u001b[39;49m\u001b[43mdeg\u001b[49m\u001b[43m)\u001b[49m\u001b[43m}\u001b[49m\u001b[43m,\u001b[49m\n\u001b[1;32m      9\u001b[0m \u001b[43m    \u001b[49m\u001b[43mra\u001b[49m\u001b[38;5;241;43m=\u001b[39;49m\u001b[38;5;241;43m0.0\u001b[39;49m\u001b[43m \u001b[49m\u001b[38;5;241;43m*\u001b[39;49m\u001b[43m \u001b[49m\u001b[43mU\u001b[49m\u001b[38;5;241;43m.\u001b[39;49m\u001b[43mdeg\u001b[49m\u001b[43m,\u001b[49m\n\u001b[1;32m     10\u001b[0m \u001b[43m    \u001b[49m\u001b[43mdec\u001b[49m\u001b[38;5;241;43m=\u001b[39;49m\u001b[38;5;241;43m0.0\u001b[39;49m\u001b[43m \u001b[49m\u001b[38;5;241;43m*\u001b[39;49m\u001b[43m \u001b[49m\u001b[43mU\u001b[49m\u001b[38;5;241;43m.\u001b[39;49m\u001b[43mdeg\u001b[49m\u001b[43m,\u001b[49m\n\u001b[1;32m     11\u001b[0m \u001b[43m)\u001b[49m\n",
      "File \u001b[0;32m~/.local/lib/python3.11/site-packages/martini/sources/tng_source.py:240\u001b[0m, in \u001b[0;36mTNGSource.__init__\u001b[0;34m(self, simulation, snapNum, subID, api_key, cutout_dir, distance, vpeculiar, rotation, ra, dec)\u001b[0m\n\u001b[1;32m    237\u001b[0m     X_H_g \u001b[38;5;241m=\u001b[39m X_H \u001b[38;5;28;01mif\u001b[39;00m minisnap \u001b[38;5;28;01melse\u001b[39;00m data_g[\u001b[38;5;124m\"\u001b[39m\u001b[38;5;124mGFM_Metals\u001b[39m\u001b[38;5;124m\"\u001b[39m][:, \u001b[38;5;241m0\u001b[39m]\n\u001b[1;32m    239\u001b[0m \u001b[38;5;28;01melse\u001b[39;00m:\n\u001b[0;32m--> 240\u001b[0m     \u001b[38;5;28;01mfrom\u001b[39;00m \u001b[38;5;21;01m.\u001b[39;00m\u001b[38;5;21;01m_illustris_tools\u001b[39;00m \u001b[38;5;28;01mimport\u001b[39;00m (\n\u001b[1;32m    241\u001b[0m         loadHeader,\n\u001b[1;32m    242\u001b[0m         loadSingle,\n\u001b[1;32m    243\u001b[0m         loadSubset,\n\u001b[1;32m    244\u001b[0m         getSnapOffsets,\n\u001b[1;32m    245\u001b[0m     )\n\u001b[1;32m    247\u001b[0m     \u001b[38;5;28;01mif\u001b[39;00m cutout_dir \u001b[38;5;129;01mis\u001b[39;00m \u001b[38;5;129;01mnot\u001b[39;00m \u001b[38;5;28;01mNone\u001b[39;00m:\n\u001b[1;32m    248\u001b[0m         \u001b[38;5;28mprint\u001b[39m(\u001b[38;5;124m\"\u001b[39m\u001b[38;5;124mRunning on TNG JupyterLab, cutout_dir ignored.\u001b[39m\u001b[38;5;124m\"\u001b[39m)\n",
      "\u001b[0;31mImportError\u001b[0m: cannot import name 'getSnapOffsets' from 'martini.sources._illustris_tools' (/home/tnguser/.local/lib/python3.11/site-packages/martini/sources/_illustris_tools.py)"
     ]
    }
   ],
   "source": [
    "source = TNGSource(\n",
    "    simulation,\n",
    "    snapshot,\n",
    "    subhalo_id,\n",
    "    api_key=api_key,\n",
    "    cutout_dir=\".\",\n",
    "    distance=4 * U.Mpc,\n",
    "    rotation={\"L_coords\": (60 * U.deg, 0.0 * U.deg)},\n",
    "    ra=0.0 * U.deg,\n",
    "    dec=0.0 * U.deg,\n",
    ")"
   ]
  },
  {
   "cell_type": "code",
   "execution_count": 18,
   "id": "1b383f3d-282a-4b8d-9440-9e0d9a73e25c",
   "metadata": {
    "tags": []
   },
   "outputs": [
    {
     "ename": "SyntaxError",
     "evalue": "invalid syntax (1293840873.py, line 1)",
     "output_type": "error",
     "traceback": [
      "\u001b[0;36m  Cell \u001b[0;32mIn[18], line 1\u001b[0;36m\u001b[0m\n\u001b[0;31m    import ._illustris_tools\u001b[0m\n\u001b[0m           ^\u001b[0m\n\u001b[0;31mSyntaxError\u001b[0m\u001b[0;31m:\u001b[0m invalid syntax\n"
     ]
    }
   ],
   "source": [
    "il.groupcat."
   ]
  },
  {
   "cell_type": "code",
   "execution_count": null,
   "id": "347174fa-76f1-4c9e-8fc0-9b5bb4ff5696",
   "metadata": {},
   "outputs": [],
   "source": []
  }
 ],
 "metadata": {
  "kernelspec": {
   "display_name": "Python 3 (ipykernel)",
   "language": "python",
   "name": "python3"
  },
  "language_info": {
   "codemirror_mode": {
    "name": "ipython",
    "version": 3
   },
   "file_extension": ".py",
   "mimetype": "text/x-python",
   "name": "python",
   "nbconvert_exporter": "python",
   "pygments_lexer": "ipython3",
   "version": "3.11.4"
  }
 },
 "nbformat": 4,
 "nbformat_minor": 5
}
